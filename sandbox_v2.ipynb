{
 "cells": [
  {
   "cell_type": "code",
   "execution_count": 9,
   "metadata": {},
   "outputs": [],
   "source": [
    "import csv\n",
    "import pandas as pd\n",
    "import json"
   ]
  },
  {
   "cell_type": "code",
   "execution_count": 25,
   "metadata": {},
   "outputs": [],
   "source": [
    "corpus_path = r\"data/s2-corpus/s2-corpus-000\"\n",
    "\n",
    "papers_csv = r\"data/csv/papers.csv\"\n",
    "junk = r\"data/s2-corpus/junk_json\"\n",
    "inCit_csv = r\"data/csv/inCit.csv\"\n",
    "outCit_csv = r\"data/csv/outCit.csv\"\n",
    "authors_csv = r\"data/csv/authors.csv\"\n",
    "paper_authors_csv = r\"data/csv/paper_authors.csv\"\n",
    "\n",
    "\n",
    "d = '|'\n",
    "\n",
    "def clean(text):\n",
    "    return text.replace('d','').replace('\\n','').replace('\"','').strip()"
   ]
  },
  {
   "cell_type": "code",
   "execution_count": 20,
   "metadata": {},
   "outputs": [
    {
     "name": "stdout",
     "output_type": "stream",
     "text": [
      "{'entities': [], 'journalVolume': '62 2', 'journalPages': '\\n          3\\n        ', 'pmid': '9355562', 'year': 1997, 'outCitations': [], 's2Url': 'https://semanticscholar.org/paper/e76554693e644145944b0ea6dc3be9b38385058d', 's2PdfUrl': '', 'id': 'e76554693e644145944b0ea6dc3be9b38385058d', 'authors': [{'name': 'Susan King', 'ids': ['2867493']}], 'journalName': 'The Oregon nurse', 'paperAbstract': '', 'inCitations': [], 'pdfUrls': [], 'title': '\"ER\" TV show demeans nursing.', 'doi': '', 'sources': ['Medline'], 'doiUrl': '', 'venue': 'The Oregon nurse'}\n"
     ]
    }
   ],
   "source": [
    "with open(junk, 'r') as f:\n",
    "    line = f.readline()\n",
    "    js_line = json.loads(line)\n",
    "    print(js_line)"
   ]
  },
  {
   "cell_type": "code",
   "execution_count": 18,
   "metadata": {},
   "outputs": [
    {
     "data": {
      "text/plain": [
       "{'authors': [{'ids': ['2867493'], 'name': 'Susan King'}],\n",
       " 'doi': '',\n",
       " 'doiUrl': '',\n",
       " 'entities': [],\n",
       " 'id': 'e76554693e644145944b0ea6dc3be9b38385058d',\n",
       " 'inCitations': [],\n",
       " 'journalName': 'The Oregon nurse',\n",
       " 'journalPages': '\\n          3\\n        ',\n",
       " 'journalVolume': '62 2',\n",
       " 'outCitations': [],\n",
       " 'paperAbstract': '',\n",
       " 'pdfUrls': [],\n",
       " 'pmid': '9355562',\n",
       " 's2PdfUrl': '',\n",
       " 's2Url': 'https://semanticscholar.org/paper/e76554693e644145944b0ea6dc3be9b38385058d',\n",
       " 'sources': ['Medline'],\n",
       " 'title': '\"ER\" TV show demeans nursing.',\n",
       " 'venue': 'The Oregon nurse',\n",
       " 'year': 1997}"
      ]
     },
     "execution_count": 18,
     "metadata": {},
     "output_type": "execute_result"
    }
   ],
   "source": [
    "js_line"
   ]
  },
  {
   "cell_type": "code",
   "execution_count": 41,
   "metadata": {
    "scrolled": false
   },
   "outputs": [
    {
     "name": "stdout",
     "output_type": "stream",
     "text": [
      "{\"entities\":[],\"journalVolume\":\"\",\"journalPages\":\"\",\"pmid\":\"\",\"year\":2002,\"outCitations\":[],\"s2Url\":\"https://semanticscholar.org/paper/f408da29b85d1536ae0f8ad8369f529579e0a2e1\",\"s2PdfUrl\":\"\",\"id\":\"f408da29b85d1536ae0f8ad8369f529579e0a2e1\",\"authors\":[{\"name\":\"Keishiro Hara\",\"ids\":[\"6166177\"]},{\"name\":\"Masashi Hazumi\",\"ids\":[\"113175158\"]},{\"name\":\"Stephen Joseph Richichi\",\"ids\":[\"46875720\"]},{\"name\":\"Toshinori Abe\",\"ids\":[\"47305100\"]},{\"name\":\"Ichiro Adachi\",\"ids\":[\"88728303\"]},{\"name\":\"Byoung Sup Ahn\",\"ids\":[\"2062230\"]},{\"name\":\"Yu. V. Usov\",\"ids\":[\"88726807\"]},{\"name\":\"Mitsuhiro Akatsu\",\"ids\":[\"6632426\"]},{\"name\":\"Yasuhiro Asano\",\"ids\":[\"49304097\"]},{\"name\":\"Toshiro Aso\",\"ids\":[\"108538540\"]},{\"name\":\"Aulchenko\",\"ids\":[\"123312466\"]},{\"name\":\"T. A.-Kh. Aushev\",\"ids\":[\"95207925\"]},{\"name\":\"A. M. Bakich\",\"ids\":[\"152573995\"]},{\"name\":\"Yong Ban\",\"ids\":[\"152562508\"]},{\"name\":\"Aurelio Bay\",\"ids\":[\"152138840\"]},{\"name\":\"I. Bedny\",\"ids\":[\"152327395\"]},{\"name\":\"Prafulla Kumar Behera\",\"ids\":[\"103374431\"]},{\"name\":\"Igor Bizjak\",\"ids\":[\"46301669\"]},{\"name\":\"Ana-Nicoleta Bondar\",\"ids\":[\"144401182\"]},{\"name\":\"A. S. Bozek\",\"ids\":[\"1920049\"]},{\"name\":\"M. Bracko\",\"ids\":[\"145244199\"]},{\"name\":\"Felix Johannes Kress\",\"ids\":[\"5588265\"]},{\"name\":\"Thomas E. Browder\",\"ids\":[\"3292740\"]},{\"name\":\"B. C. K. Casey\",\"ids\":[\"33189905\"]},{\"name\":\"P. Chang\",\"ids\":[\"21810953\"]},{\"name\":\"Yuanxi Chao\",\"ids\":[\"32881407\"]},{\"name\":\"Kuei Fen Chen\",\"ids\":[\"145942219\"]},{\"name\":\"B. G. Cheon\",\"ids\":[\"117711788\"]},{\"name\":\"Ruslan Chistov\",\"ids\":[\"5075465\"]},{\"name\":\"Suhyoung Choi\",\"ids\":[\"48919381\"]},{\"name\":\"Youngsoo Choi\",\"ids\":[\"50657734\"]},{\"name\":\"Young Kyu Choi\",\"ids\":[\"32036326\"]},{\"name\":\"Mikhail V. Danilov\",\"ids\":[\"143741214\"]},{\"name\":\"Liaoyuan Dong\",\"ids\":[\"47873353\"]},{\"name\":\"J. Dragic\",\"ids\":[\"152214700\"]},{\"name\":\"S. I. Eidelman\",\"ids\":[\"103752082\"]},{\"name\":\"Eiges\",\"ids\":[\"152550724\"]},{\"name\":\"Yuji Enari\",\"ids\":[\"152187408\"]},{\"name\":\"C. W. Everton\",\"ids\":[\"6593649\"]},{\"name\":\"Fan Fang\",\"ids\":[\"50346819\"]},{\"name\":\"Ch. Fukunaga\",\"ids\":[\"101905851\"]},{\"name\":\"N. I. Gabyshev\",\"ids\":[\"152168388\"]},{\"name\":\"Alexei Garmash\",\"ids\":[\"104123738\"]},{\"name\":\"Tim Gershon\",\"ids\":[\"40939340\"]},{\"name\":\"Borut Golob\",\"ids\":[\"2732046\"]},{\"name\":\"Rongcong Guo\",\"ids\":[\"103274429\"]},{\"name\":\"Joanna Haba\",\"ids\":[\"152267994\"]},{\"name\":\"Kazunori Hanagaki\",\"ids\":[\"6404561\"]},{\"name\":\"F. Handa\",\"ids\":[\"46747278\"]},{\"name\":\"Keishiro Hara\",\"ids\":[\"6166177\"]},{\"name\":\"Nicholas C. Hastings\",\"ids\":[\"47545637\"]},{\"name\":\"Hisaki Hayashii\",\"ids\":[\"1892320\"]},{\"name\":\"E. M. Heenan\",\"ids\":[\"4359225\"]},{\"name\":\"T. Higuchi\",\"ids\":[\"92546323\"]},{\"name\":\"T. Higuchi\",\"ids\":[\"47159729\"]},{\"name\":\"L. Hinz\",\"ids\":[\"119822966\"]},{\"name\":\"Yoshiyuki Hoshi\",\"ids\":[\"49959731\"]},{\"name\":\"W. -S. Hou\",\"ids\":[\"80825875\"]},{\"name\":\"Yee Bob Hsiung\",\"ids\":[\"1969389\"]},{\"name\":\"S. C. Hsu\",\"ids\":[\"152314451\"]},{\"name\":\"Andreas Warburton\",\"ids\":[\"11637998\"]},{\"name\":\"T. Igaki\",\"ids\":[\"100807052\"]},{\"name\":\"Y. Igarashi\",\"ids\":[\"2506139\"]},{\"name\":\"Takanori Iijima\",\"ids\":[\"31735050\"]},{\"name\":\"K. Inami\",\"ids\":[\"93293654\"]},{\"name\":\"Atsushi Ishikawa\",\"ids\":[\"2239707\"]},{\"name\":\"Ryosuke Itoh\",\"ids\":[\"144277037\"]},{\"name\":\"Hiroyuki Iwasaki\",\"ids\":[\"49430825\"]},{\"name\":\"Yasumasa Iwasaki\",\"ids\":[\"46714539\"]},{\"name\":\"Hangilro Jang\",\"ids\":[\"144299431\"]},{\"name\":\"William Sutcliffe\",\"ids\":[\"3256841\"]},{\"name\":\"J. H. Kang\",\"ids\":[\"83382174\"]},{\"name\":\"Jun Sung Kang\",\"ids\":[\"15703744\"]},{\"name\":\"Norihiro Katayama\",\"ids\":[\"145749014\"]},{\"name\":\"Hikaru Kawai\",\"ids\":[\"93150792\"]},{\"name\":\"Yusuke Kawakami\",\"ids\":[\"48910651\"]},{\"name\":\"Naritoshi Kawamura\",\"ids\":[\"47451792\"]},{\"name\":\"H. Kichimi\",\"ids\":[\"152290823\"]},{\"name\":\"Hyunyong Kim\",\"ids\":[\"48693738\"]},{\"name\":\"Nicole Apadula\",\"ids\":[\"48206167\"]},{\"name\":\"Nicole Apadula\",\"ids\":[\"48206167\"]},{\"name\":\"Tae Hong Kim\",\"ids\":[\"103759060\"]},{\"name\":\"Keisuke Kinoshita\",\"ids\":[\"48008972\"]},{\"name\":\"Samo Korpar\",\"ids\":[\"152601678\"]},{\"name\":\"P. Križan\",\"ids\":[\"108365064\"]},{\"name\":\"Pavel Krokovny\",\"ids\":[\"103396528\"]},{\"name\":\"Ratnappuli L. Kulasiri\",\"ids\":[\"101735777\"]},{\"name\":\"Sanjay Kumar\",\"ids\":[\"49596388\"]},{\"name\":\"A. Kuzmin\",\"ids\":[\"145494105\"]},{\"name\":\"Youngjoon Kwon\",\"ids\":[\"143743584\"]},{\"name\":\"Jens Soeren Lange\",\"ids\":[\"39923326\"]},{\"name\":\"G. H. Leder\",\"ids\":[\"3957963\"]},{\"name\":\"Se Hee Lee\",\"ids\":[\"6490788\"]},{\"name\":\"Jun Li\",\"ids\":[\"33156595\"]},{\"name\":\"R. Lu\",\"ids\":[\"73019725\"]},{\"name\":\"J. Macnaughton\",\"ids\":[\"145691058\"]},{\"name\":\"Gobinda Majumder\",\"ids\":[\"3365248\"]},{\"name\":\"Franz Mandl\",\"ids\":[\"152420233\"]},{\"name\":\"Takashi Matsuishi\",\"ids\":[\"3475629\"]},{\"name\":\"Sh. Matsumoto\",\"ids\":[\"50463586\"]},{\"name\":\"Toshitaka Matsumoto\",\"ids\":[\"41219607\"]},{\"name\":\"Kenkichi Miyabayashi\",\"ids\":[\"5242539\"]},{\"name\":\"Yoshitugu Miyabayashi\",\"ids\":[\"92475253\"]},{\"name\":\"H. Miyata\",\"ids\":[\"2205204\"]},{\"name\":\"G. R. Moloney\",\"ids\":[\"47880028\"]},{\"name\":\"Takehiko Mori\",\"ids\":[\"49391679\"]},{\"name\":\"T. Nagamine\",\"ids\":[\"102477108\"]},{\"name\":\"Ilija Bizjak\",\"ids\":[\"81931032\"]},{\"name\":\"Takeshi Nakadaira\",\"ids\":[\"4700394\"]},{\"name\":\"Eiji Nakano\",\"ids\":[\"144033541\"]},{\"name\":\"Michiyasu Nakao\",\"ids\":[\"2181791\"]},{\"name\":\"Jiwoo Nam\",\"ids\":[\"2023341\"]},{\"name\":\"Zbigniew Natkaniec\",\"ids\":[\"1753897\"]},{\"name\":\"Shohei Nishida\",\"ids\":[\"1816854\"]},{\"name\":\"Osamu Nitoh\",\"ids\":[\"152364060\"]},{\"name\":\"Satoru Noguchi\",\"ids\":[\"103456616\"]},{\"name\":\"Takayuki Nozaki\",\"ids\":[\"1826694\"]},{\"name\":\"Satoru Ogawa\",\"ids\":[\"50139626\"]},{\"name\":\"Takeshi Ohshima\",\"ids\":[\"2299598\"]},{\"name\":\"Tadashi Okabe\",\"ids\":[\"50190172\"]},{\"name\":\"S. Okuno\",\"ids\":[\"83421781\"]},{\"name\":\"Stephen L. Olsen\",\"ids\":[\"102425201\"]},{\"name\":\"Evelina Gersabeck\",\"ids\":[\"79867456\"]},{\"name\":\"Waclaw Ostrowicz\",\"ids\":[\"6371919\"]},{\"name\":\"Hiromasa Ozaki\",\"ids\":[\"1730841\"]},{\"name\":\"Henryk Palka\",\"ids\":[\"1760925\"]},{\"name\":\"C.-S. Park\",\"ids\":[\"145050308\"]},{\"name\":\"Hyun Kook Park\",\"ids\":[\"3199181\"]},{\"name\":\"Lawrence Peak\",\"ids\":[\"6057930\"]},{\"name\":\"J. P. Perroud\",\"ids\":[\"91664147\"]},{\"name\":\"Michael Peters\",\"ids\":[\"144883257\"]},{\"name\":\"Frederic Jean Ronga\",\"ids\":[\"95510317\"]},{\"name\":\"Norman Root\",\"ids\":[\"104230381\"]},{\"name\":\"Magdalena Różańska\",\"ids\":[\"48649993\"]},{\"name\":\"Krystian Rybicki\",\"ids\":[\"71037826\"]},{\"name\":\"Hiroyuki Sagawa\",\"ids\":[\"92398547\"]},{\"name\":\"Saburou Saitoh\",\"ids\":[\"2087748\"]},{\"name\":\"Y. Sakai\",\"ids\":[\"46849724\"]},{\"name\":\"Hisahiro Sakamoto\",\"ids\":[\"50055743\"]},{\"name\":\"M. K. Satapathy\",\"ids\":[\"20642349\"]},{\"name\":\"Asish Satpathy\",\"ids\":[\"2910219\"]},{\"name\":\"Olivier Schneider\",\"ids\":[\"144532028\"]},{\"name\":\"S. Schrenk\",\"ids\":[\"102983939\"]},{\"name\":\"Oliver D. Schneider\",\"ids\":[\"4110160\"]},{\"name\":\"Sergey Semenov\",\"ids\":[\"48095784\"]},{\"name\":\"Katsumi Senyo\",\"ids\":[\"152605893\"]},{\"name\":\"Rolf Seuster\",\"ids\":[\"3599572\"]},{\"name\":\"Martin Sevior\",\"ids\":[\"94847933\"]},{\"name\":\"Hidetoshi Shibuya\",\"ids\":[\"102429415\"]},{\"name\":\"Boris A. Shwartz\",\"ids\":[\"152258245\"]},{\"name\":\"Jaideep Singh\",\"ids\":[\"143881818\"]},{\"name\":\"Neetika Soni\",\"ids\":[\"50845737\"]},{\"name\":\"Samo Stanič\",\"ids\":[\"144966433\"]},{\"name\":\"Aleš Stanovnik\",\"ids\":[\"102286117\"]},{\"name\":\"Akiko Sugi\",\"ids\":[\"146199474\"]},{\"name\":\"Ayumu Sugiyama\",\"ids\":[\"2507386\"]},{\"name\":\"K. Sumisawa\",\"ids\":[\"5951876\"]},{\"name\":\"T. Sumiyoshi\",\"ids\":[\"83300378\"]},{\"name\":\"Keisuke Suzuki\",\"ids\":[\"48845095\"]},{\"name\":\"Shota Suzuki\",\"ids\":[\"48038422\"]},{\"name\":\"Shota Suzuki\",\"ids\":[\"48038422\"]},{\"name\":\"T Takahashi\",\"ids\":[\"143721228\"]},{\"name\":\"Fumihiko Takasaki\",\"ids\":[\"46286563\"]},{\"name\":\"Norio Tamura\",\"ids\":[\"2638391\"]},{\"name\":\"Junichi Tanaka\",\"ids\":[\"48589393\"]},{\"name\":\"Masayuki Tanaka\",\"ids\":[\"145815979\"]},{\"name\":\"Graham P. Taylor\",\"ids\":[\"102978152\"]},{\"name\":\"Y. Teramoto\",\"ids\":[\"48976558\"]},{\"name\":\"Shinji Tokuda\",\"ids\":[\"50287340\"]},{\"name\":\"Makoto Tomoto\",\"ids\":[\"152534271\"]},{\"name\":\"Tomonobu Tomura\",\"ids\":[\"152432473\"]},{\"name\":\"Kods Trabelsi\",\"ids\":[\"50545174\"]},{\"name\":\"T. Tsuboyama\",\"ids\":[\"102942749\"]},{\"name\":\"Toshio Tsukamoto\",\"ids\":[\"48026685\"]},{\"name\":\"Shin-ichi Uehara\",\"ids\":[\"73640426\"]},{\"name\":\"Kazuma Ueno\",\"ids\":[\"101057226\"]},{\"name\":\"Yoshinobu Unno\",\"ids\":[\"1938436\"]},{\"name\":\"Shigemichi Uno\",\"ids\":[\"91909857\"]},{\"name\":\"Yutaka Ushiroda\",\"ids\":[\"7461557\"]},{\"name\":\"Gary S. Varner\",\"ids\":[\"11542975\"]},{\"name\":\"K. E. Varvell\",\"ids\":[\"104192247\"]},{\"name\":\"Chia C Wang\",\"ids\":[\"47074932\"]},{\"name\":\"Clare H. Wang\",\"ids\":[\"66577904\"]},{\"name\":\"J. H. Wang\",\"ids\":[\"92081873\"]},{\"name\":\"M.-Z. Wang\",\"ids\":[\"46241503\"]},{\"name\":\"Yasushi Watanabe\",\"ids\":[\"49701338\"]},{\"name\":\"Eunil Won\",\"ids\":[\"152565067\"]},{\"name\":\"Bruce Yabsley\",\"ids\":[\"152401355\"]},{\"name\":\"Yoshiyasu Yamada\",\"ids\":[\"1759539\"]},{\"name\":\"Azusa Yamaguchi\",\"ids\":[\"30963011\"]},{\"name\":\"Yasushi Yamashita\",\"ids\":[\"1794575\"]},{\"name\":\"Masanori Yamauchi\",\"ids\":[\"50215965\"]},{\"name\":\"Haruo Yanai\",\"ids\":[\"48725654\"]},{\"name\":\"Makoto Yokoyama\",\"ids\":[\"22858142\"]},{\"name\":\"Yuan Yuan\",\"ids\":[\"48009643\"]},{\"name\":\"Yosuke Yusa\",\"ids\":[\"93251738\"]},{\"name\":\"Zhao Peng Zhang\",\"ids\":[\"83723829\"]},{\"name\":\"Zhilich\",\"ids\":[\"152324919\"]}],\"journalName\":\"\",\"paperAbstract\":\"We present a measurement of the B-0-(B-0) over bar mixing parameter Deltam(d) using neutral B meson pairs in a 29.1 fb(-1) data sample collected at the Y(4S) resonance with the Belle detector at the KEKB asymmetric-energy e(+)e(-) collider. We exclusively reconstruct one neutral B meson in the semileptonic B-0-->D*-.(+)nu decay mode and identify the flavor of the accompanying B meson from its decay products. From the distribution of the time intervals between the two flavor-tagged B meson decay points, we obtain Deltam(d)=(0.494+/-0.012+/-0.015) ps(-1), where the first error is statistical and the second error is systematic.\",\"inCitations\":[],\"pdfUrls\":[],\"title\":\"Measurement of the B-0-(B)over-bar(0) mixing parameter Delta m(d) using semileptonic B-0 decays\",\"doi\":\"\",\"sources\":[],\"doiUrl\":\"\",\"venue\":\"\"}\n",
      "\n"
     ]
    }
   ],
   "source": [
    "with open(corpus_path, 'r') as f:\n",
    "#with open(corpus_path, 'r') as f:\n",
    "#with open(authors_csv, 'r') as f:\n",
    "#    for i in range(481025):\n",
    "    for i in range(3000):\n",
    "        line = f.readline()\n",
    "        if i in range(216,217):\n",
    "            #js_line = json.loads(line)\n",
    "            #print(str(i)+\": \"+clean(js_line['title']))\n",
    "            #print(str(i)+\": \"+js_line['id'])\n",
    "            print(line)"
   ]
  },
  {
   "cell_type": "code",
   "execution_count": 7,
   "metadata": {},
   "outputs": [],
   "source": [
    "#df = pd.read_csv(authors_csv)\n",
    "#df.head()"
   ]
  },
  {
   "cell_type": "code",
   "execution_count": 8,
   "metadata": {},
   "outputs": [],
   "source": [
    "#inCit_df.head()"
   ]
  },
  {
   "cell_type": "code",
   "execution_count": 31,
   "metadata": {},
   "outputs": [
    {
     "data": {
      "text/plain": [
       "'Lamberti-Apotheke  Gesund reisen – Malaria/Hepatitis/Gelbfieber'"
      ]
     },
     "execution_count": 31,
     "metadata": {},
     "output_type": "execute_result"
    }
   ],
   "source": [
    "js_line['title'].replace('|','')"
   ]
  },
  {
   "cell_type": "code",
   "execution_count": null,
   "metadata": {},
   "outputs": [],
   "source": []
  }
 ],
 "metadata": {
  "kernelspec": {
   "display_name": "Python 3",
   "language": "python",
   "name": "python3"
  },
  "language_info": {
   "codemirror_mode": {
    "name": "ipython",
    "version": 3
   },
   "file_extension": ".py",
   "mimetype": "text/x-python",
   "name": "python",
   "nbconvert_exporter": "python",
   "pygments_lexer": "ipython3",
   "version": "3.6.8"
  }
 },
 "nbformat": 4,
 "nbformat_minor": 2
}
