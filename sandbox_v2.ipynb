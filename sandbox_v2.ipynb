{
 "cells": [
  {
   "cell_type": "code",
   "execution_count": 1,
   "metadata": {},
   "outputs": [],
   "source": [
    "import csv\n",
    "import pandas as pd\n",
    "import json"
   ]
  },
  {
   "cell_type": "code",
   "execution_count": 8,
   "metadata": {},
   "outputs": [],
   "source": [
    "corpus_path = r\"data/s2-corpus/s2-corpus-001\"\n",
    "sample = r\"data/s2-corpus/s2-corpus-sample\"\n",
    "papers_csv = r\"data/csv/papers.csv\"\n",
    "junk = r\"data/s2-corpus/junk_json\"\n",
    "inCit_csv = r\"data/csv/inCit.csv\"\n",
    "outCit_csv = r\"data/csv/outCit.csv\"\n",
    "authors_csv = r\"data/csv/authors.csv\"\n",
    "paper_authors_csv = r\"data/csv/paper_authors.csv\"\n",
    "\n",
    "\n",
    "d = '|'\n",
    "\n",
    "def clean(text):\n",
    "    return text.replace('d','').replace('\\n','').replace('\"','').strip()"
   ]
  },
  {
   "cell_type": "code",
   "execution_count": 16,
   "metadata": {},
   "outputs": [
    {
     "name": "stdout",
     "output_type": "stream",
     "text": [
      "{\"entities\":[],\"journalVolume\":\"\",\"journalPages\":\"\",\"pmid\":\"\",\"year\":2017,\"outCitations\":[],\"s2Url\":\"https://semanticscholar.org/paper/a98415f73b30b11abc457daa9c524a260e9471e2\",\"s2PdfUrl\":\"\",\"id\":\"a98415f73b30b11abc457daa9c524a260e9471e2\",\"authors\":[{\"name\":\"Donoso León\",\"ids\":[\"119926669\"]},{\"name\":\"C. Bougouma Edith\",\"ids\":[\"81461379\"]}],\"journalName\":\"\",\"paperAbstract\":\"At present the incorporation of technology and tics, within the process of teaching physics, offers new horizons pedagogical, however, the question, the use of the virtual laboratory produces significantly different learning to the lessons learned with the use Of the traditional laboratory ?, this is the problem that is addressed in this research, whose objective is to make a comparative analysis of the learning results of the use of the virtual laboratory versus the traditional laboratory use in the subject of physics II, in the unit of the Movement Simple Harmonic. The type of research is descriptive, longitudinal and applied, with a quasi-experimental design, the methods were used: scientific and inductive-deductive, the study population was formed by the students of the second semester of the civil engineering career of the Faculty of Engineering of the National University of Chimborazo, the type of sampling was stratified probabilistic. The technique used for the collection of data was observation, with its instrument the observation sheet. For the verification of the hypothesis, the z statistic was used for independent samples. Finally, it was verified that the students who use the virtual laboratory do not have significantly different learning compared to those that use the traditional laboratory, therefore it is concluded that the use of the Virtual Laboratory against the use of the Traditional Laboratory does not significantly improve the learning of the Harmonic Movement Simple, of the students of Second semester of the Race of Civil Engineering of the National University of Chimborazo.\",\"inCitations\":[],\"pdfUrls\":[],\"title\":\"Análisis comparativo del uso del laboratorio virtual con el tradicional para el aprendizaje del movimiento armónico simple con los estudiantes de segundo semestre paralelos “a” y “b” de la carrera de Ingeniería Civil de la Universidad Nacionalde Chimborazo.\",\"doi\":\"\",\"sources\":[],\"doiUrl\":\"\",\"venue\":\"\"}\n",
      "\n"
     ]
    }
   ],
   "source": [
    "with open(corpus_path, 'r') as f:\n",
    "    for i in range (19):\n",
    "        f.readline()\n",
    "    line = f.readline()\n",
    "    #js_line = json.loads(line)\n",
    "    print(line)"
   ]
  },
  {
   "cell_type": "code",
   "execution_count": 18,
   "metadata": {},
   "outputs": [
    {
     "data": {
      "text/plain": [
       "{'authors': [{'ids': ['2867493'], 'name': 'Susan King'}],\n",
       " 'doi': '',\n",
       " 'doiUrl': '',\n",
       " 'entities': [],\n",
       " 'id': 'e76554693e644145944b0ea6dc3be9b38385058d',\n",
       " 'inCitations': [],\n",
       " 'journalName': 'The Oregon nurse',\n",
       " 'journalPages': '\\n          3\\n        ',\n",
       " 'journalVolume': '62 2',\n",
       " 'outCitations': [],\n",
       " 'paperAbstract': '',\n",
       " 'pdfUrls': [],\n",
       " 'pmid': '9355562',\n",
       " 's2PdfUrl': '',\n",
       " 's2Url': 'https://semanticscholar.org/paper/e76554693e644145944b0ea6dc3be9b38385058d',\n",
       " 'sources': ['Medline'],\n",
       " 'title': '\"ER\" TV show demeans nursing.',\n",
       " 'venue': 'The Oregon nurse',\n",
       " 'year': 1997}"
      ]
     },
     "execution_count": 18,
     "metadata": {},
     "output_type": "execute_result"
    }
   ],
   "source": [
    "js_line"
   ]
  },
  {
   "cell_type": "code",
   "execution_count": 3,
   "metadata": {
    "scrolled": false
   },
   "outputs": [
    {
     "name": "stdout",
     "output_type": "stream",
     "text": [
      "0: {\"entities\":[],\"journalVolume\":\"\",\"journalPages\":\"\",\"pmid\":\"\",\"year\":2013,\"outCitations\":[],\"s2Url\":\"https://semanticscholar.org/paper/a85afe9ce8e1008c2ef5a7bac5724a74367480ae\",\"s2PdfUrl\":\"\",\"id\":\"a85afe9ce8e1008c2ef5a7bac5724a74367480ae\",\"authors\":[{\"name\":\"Li Wenshen\",\"ids\":[\"82000013\"]}],\"journalName\":\"\",\"paperAbstract\":\"[Objective]To observe the differentiation and treatment of senile hypertension clinical curative effect.[Methods]Using random parallel control method,140 cases of hospitalized patients in clinic order numbering method were randomly divided into two groups.65 according to different patients were treated calcium antagonists,angiotensin converting enzyme inhibitors,beta blockers,diuretics,alpha blockers and vasodilator.Simvastatin 20 mg/time,1/d.The treatment group 65 cases,diagnosis and treatment agent 1/d,and 200 ml water,oral sooner or later.The wind fire disturbance(Shengshijueming,Longchi,Zhufushen every 30g,Tianma 15g,Gouteng 20g,Chuanniuxi,Duzhong,Sangjisheng every 12g);Suffered inflammation(Cheqianzi15g,Chaihu,Huangchen 10g,Fuling30g,Danggui,Shengdihuang,Mutong 12g);Phlegm turbidity on(30g Fuling,Chenpi,Banxiaeach 10g,Tianma 15g,12g Baishu,Gancao 6g);Qi and blood deficiency(Huangshi,Suanzaoren each 30g,Longyanrou,Baishu each 12g,Fushen,Dangshen each 15g,Zhigancao 6g);Liver and kidney Yin deficiency(15g Shanyao,Lujiaojiao 10g,Shudihuang,Shanyurou,Gouqi,Baishao,Chuanniuxi,Guibanjiao 12g)blood stasis resistance orifices(Taoren,Honghua,Yujin12g,Huangjiu 50g).90d continuous treatment for 1 course of treatment.Clinical curative effect observation,blood pressure,adverse reactions.Continuous treatment 1 treatment course,judge curative effect.[Results]The treatment group(23 cases were markedly effective,effective 35 cases,12 cases ineffective,the effective rate was 82.86%.The control group 26 cases were markedly effective,effective 27 cases,17 had no effect,the total effective rate was 75.71%.The treatment group curative effect is better than that of control group(P0.05).Two groups of blood pressure were improved(P0.05),the treatment group is better than that of control group(P0.05).[Conclusion]Type differentiation and treatment of senile hypertension effect is remarkable,is worth promoting.\",\"inCitations\":[],\"pdfUrls\":[],\"title\":\"Differentiation and Treatment of Hypertension in the Elderly Randomized Controlled Study\",\"doi\":\"\",\"sources\":[],\"doiUrl\":\"\",\"venue\":\"\"}\n",
      "\n"
     ]
    }
   ],
   "source": [
    "with open(corpus_path, 'r') as f:\n",
    "#with open(corpus_path, 'r') as f:\n",
    "#with open(authors_csv, 'r') as f:\n",
    "#    for i in range(481025):\n",
    "    for i in range(3000):\n",
    "        line = f.readline()\n",
    "        js_line = json.loads(line)\n",
    "        if (js_line['id']=='a85afe9ce8e1008c2ef5a7bac5724a74367480ae'):\n",
    "            print(str(i)+\": \"+line)\n",
    "        #if i in range(216,217):\n",
    "            #js_line = json.loads(line)\n",
    "            #print(str(i)+\": \"+clean(js_line['title']))\n",
    "            #print(str(i)+\": \"+js_line['id'])\n",
    "            "
   ]
  },
  {
   "cell_type": "code",
   "execution_count": 7,
   "metadata": {},
   "outputs": [],
   "source": [
    "#df = pd.read_csv(authors_csv)\n",
    "#df.head()"
   ]
  },
  {
   "cell_type": "code",
   "execution_count": 8,
   "metadata": {},
   "outputs": [],
   "source": [
    "#inCit_df.head()"
   ]
  },
  {
   "cell_type": "code",
   "execution_count": 31,
   "metadata": {},
   "outputs": [
    {
     "data": {
      "text/plain": [
       "'Lamberti-Apotheke  Gesund reisen – Malaria/Hepatitis/Gelbfieber'"
      ]
     },
     "execution_count": 31,
     "metadata": {},
     "output_type": "execute_result"
    }
   ],
   "source": [
    "js_line['title'].replace('|','')"
   ]
  },
  {
   "cell_type": "code",
   "execution_count": null,
   "metadata": {},
   "outputs": [],
   "source": []
  }
 ],
 "metadata": {
  "kernelspec": {
   "display_name": "Python 3",
   "language": "python",
   "name": "python3"
  },
  "language_info": {
   "codemirror_mode": {
    "name": "ipython",
    "version": 3
   },
   "file_extension": ".py",
   "mimetype": "text/x-python",
   "name": "python",
   "nbconvert_exporter": "python",
   "pygments_lexer": "ipython3",
   "version": "3.6.8"
  }
 },
 "nbformat": 4,
 "nbformat_minor": 2
}
